{
 "cells": [
  {
   "cell_type": "markdown",
   "id": "bfa6c7a2-bc32-4b68-9c26-28a463f3cf9a",
   "metadata": {},
   "source": [
    "# Decision Tree\n",
    "\n",
    "### อธิบายเบื้องต้น\n",
    "- Decision Tree เป็นอัลกอริทึมที่สำคัญสำหรับการจัดกลุ่มข้อมูล\n",
    "- ใช้คุณลักษณะของข้อมูล (Attributes) แล้วสร้างผังการตัดสินใจคล้ายต้นไม้\n",
    "- การจัดกลุ่มเช่น ถ้าอากาศร้อน สระว่ายน้ำอยู่ใกล้บ้าน ฉันจะไปว่ายน้ำหรือไม่ ผลการตัดสินใจแบ่งออกเป็น ไป ไม่ไป หรืออื่นๆ\n",
    "- นอกจากนี้ยังนำไว้ใช้กับข้อมูลที่เป็นรูปภาพเพื่อแยกวัตถุต่างๆ ว่ารูปภาพนั้นคือภาพอะไรก็ได้\n",
    "- โปรแกรมนี้จะใช้ library sklearn สำหรับการสร้างเป็น model และการแบ่งกลุ่มข้อมูล\n",
    "\n",
    "### Library\n",
    "- sklearn ใช้สำหรับการสร้าง model และประเมิน model\n",
    "- seaborn ใช้สำหรับสร้างกราฟเพื่อดูความสัมพันธ์ให้เข้าใจง่ายขึ้น\n",
    "- joblib ใช้สำหรับับทึก model และนำกลับมาใช้ใหม่\n",
    "- pandas สำหรับการสร้างข้อมูลเป็นตารางเพื่อให้อ่านง่ายขึ้น\n",
    "\n",
    "### ตัวอย่างที่ใช้\n",
    "-\n",
    "-\n",
    "-"
   ]
  },
  {
   "cell_type": "code",
   "execution_count": 1,
   "id": "22eb384e-1186-4553-9912-f37ea3916d4d",
   "metadata": {},
   "outputs": [],
   "source": [
    "!pip install sklearn --upgrade --quiet\n",
    "!pip install seaborn --upgrade --quiet\n",
    "!pip install joblib --upgrade --quiet\n",
    "!pip install pandas --upgrade --quiet"
   ]
  },
  {
   "cell_type": "code",
   "execution_count": 3,
   "id": "836d25b6-d775-4f03-b61f-f9fa5d7505b3",
   "metadata": {},
   "outputs": [],
   "source": [
    "from sklearn.tree import DecisionTreeClassifier\n",
    "import joblib\n",
    "import seaborn as sns\n",
    "import pandas as pd\n",
    "import time"
   ]
  },
  {
   "cell_type": "code",
   "execution_count": null,
   "id": "561dee79-e55c-4a28-bc88-c2100171effe",
   "metadata": {},
   "outputs": [],
   "source": []
  }
 ],
 "metadata": {
  "kernelspec": {
   "display_name": "Python 3",
   "language": "python",
   "name": "python3"
  },
  "language_info": {
   "codemirror_mode": {
    "name": "ipython",
    "version": 3
   },
   "file_extension": ".py",
   "mimetype": "text/x-python",
   "name": "python",
   "nbconvert_exporter": "python",
   "pygments_lexer": "ipython3",
   "version": "3.9.1"
  }
 },
 "nbformat": 4,
 "nbformat_minor": 5
}
