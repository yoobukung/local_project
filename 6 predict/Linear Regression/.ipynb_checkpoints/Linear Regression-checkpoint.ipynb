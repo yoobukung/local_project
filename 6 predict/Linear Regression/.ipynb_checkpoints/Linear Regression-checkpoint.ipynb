{
 "cells": [
  {
   "cell_type": "markdown",
   "id": "009f3edc-58cc-4bbd-a907-70acd80f101d",
   "metadata": {},
   "source": [
    "# Linear Regression Predict\n",
    "\n",
    "### อธิบายเบื้องต้น\n",
    "- Linear Regression เป็นการหาความสัมพันธ์ของตัวแปรตั้งแต่ 2 ตัวขึ้นไป\n",
    "- การหาความสัมพันธ์ของตัวแปร เช่น เมื่อ x สูงขึ้น y สูงขึ้นตาม x หรือ ลดลงตาม x\n",
    "- โปรแกรมนี้จะใช้ library sklearn สำหรับการสร้างเป็น model และการทำนายข้อมูล\n",
    "\n",
    "### Library\n",
    "- sklearn ใช้สำหรับการสร้าง model และประเมิน model\n",
    "- seaborn ใช้สำหรับสร้างกราฟเพื่อดูความสัมพันธ์ให้เข้าใจง่ายขึ้น\n",
    "- joblib ใช้สำหรับับทึก model และนำกลับมาใช้ใหม่\n",
    "- pandas สำหรับการสร้างข้อมูลเป็นตารางเพื่อให้อ่านง่ายขึ้น\n",
    "\n",
    "### ตัวอย่างที่ใช้\n",
    "- หาความสัมพันธ์ของการโฆษณากับจำนวนสินค้าที่ขายได้มีความสัมพันธ์กันอย่างไร\n",
    "- ทดลองทำนายการลงทุนว่าจำนวนโฆษณาดังกล่าวเมื่อลงทุนแล้วยอดขายจะเป็นเท่าใดและแบบไหนคุ้มค่ากว่ากัน\n",
    "- ประเมินความแม่นยำของ model ที่ใช้"
   ]
  },
  {
   "cell_type": "code",
   "execution_count": 1,
   "id": "c6785549-d1d5-4556-845c-bffce1839ac8",
   "metadata": {},
   "outputs": [],
   "source": [
    "!pip install sklearn --upgrade --quiet\n",
    "!pip install seaborn --upgrade --quiet\n",
    "!pip install joblib --upgrade --quiet"
   ]
  },
  {
   "cell_type": "code",
   "execution_count": 2,
   "id": "96e81407-6a2a-4cb4-a92e-3d47d342eba1",
   "metadata": {},
   "outputs": [],
   "source": [
    "from sklearn.metrics import  mean_squared_error, mean_absolute_error, r2_score\n",
    "from sklearn.linear_model import LinearRegression\n",
    "import joblib\n",
    "import seaborn as sns\n",
    "import pandas as pd\n",
    "import time"
   ]
  },
  {
   "cell_type": "code",
   "execution_count": 3,
   "id": "4d56ed4d-d551-4352-84b9-416922a5aba3",
   "metadata": {},
   "outputs": [],
   "source": [
    "ads_facebook_data = [100, 180, 300, 410, 520, 600] # ค่าโฆษณาทางเฟสบุค\n",
    "ads_lazada_data = [200, 240, 250, 300, 400, 450] # ค่าโฆษณาทางลาซาด้า\n",
    "ads_shopee_data = [150, 200, 280, 400, 600, 800] #ค่าโฆษณาทางชอปปี้\n",
    "sales_data = [10, 14, 25, 28, 30, 35] # ค่าโฆษณาทางเฟสบุค"
   ]
  },
  {
   "cell_type": "markdown",
   "id": "ad106b0a-abd2-4554-b5bf-dc46b56db6d1",
   "metadata": {},
   "source": [
    "## สร้างข้อมูลให้อยู่ในรูปของตารางและกราฟ\n",
    "- ใช้ pandas ทำการสร้างตารางขึ้นมาโดยแบ่งออกเป็น 4 fields\n",
    "- ดูแนวโน้มโดยใช้กราฟที่ seaborn สร้างขึ้น"
   ]
  },
  {
   "cell_type": "code",
   "execution_count": 4,
   "id": "f9aa7c6d-5f63-4613-9b85-f17aeca1d9a6",
   "metadata": {},
   "outputs": [
    {
     "data": {
      "text/html": [
       "<div>\n",
       "<style scoped>\n",
       "    .dataframe tbody tr th:only-of-type {\n",
       "        vertical-align: middle;\n",
       "    }\n",
       "\n",
       "    .dataframe tbody tr th {\n",
       "        vertical-align: top;\n",
       "    }\n",
       "\n",
       "    .dataframe thead th {\n",
       "        text-align: right;\n",
       "    }\n",
       "</style>\n",
       "<table border=\"1\" class=\"dataframe\">\n",
       "  <thead>\n",
       "    <tr style=\"text-align: right;\">\n",
       "      <th></th>\n",
       "      <th>Facebook</th>\n",
       "      <th>Lazada</th>\n",
       "      <th>Shopee</th>\n",
       "      <th>Sales</th>\n",
       "    </tr>\n",
       "  </thead>\n",
       "  <tbody>\n",
       "    <tr>\n",
       "      <th>0</th>\n",
       "      <td>100</td>\n",
       "      <td>200</td>\n",
       "      <td>150</td>\n",
       "      <td>10</td>\n",
       "    </tr>\n",
       "    <tr>\n",
       "      <th>1</th>\n",
       "      <td>180</td>\n",
       "      <td>240</td>\n",
       "      <td>200</td>\n",
       "      <td>14</td>\n",
       "    </tr>\n",
       "    <tr>\n",
       "      <th>2</th>\n",
       "      <td>300</td>\n",
       "      <td>250</td>\n",
       "      <td>280</td>\n",
       "      <td>25</td>\n",
       "    </tr>\n",
       "    <tr>\n",
       "      <th>3</th>\n",
       "      <td>410</td>\n",
       "      <td>300</td>\n",
       "      <td>400</td>\n",
       "      <td>28</td>\n",
       "    </tr>\n",
       "    <tr>\n",
       "      <th>4</th>\n",
       "      <td>520</td>\n",
       "      <td>400</td>\n",
       "      <td>600</td>\n",
       "      <td>30</td>\n",
       "    </tr>\n",
       "    <tr>\n",
       "      <th>5</th>\n",
       "      <td>600</td>\n",
       "      <td>450</td>\n",
       "      <td>800</td>\n",
       "      <td>35</td>\n",
       "    </tr>\n",
       "  </tbody>\n",
       "</table>\n",
       "</div>"
      ],
      "text/plain": [
       "   Facebook  Lazada  Shopee  Sales\n",
       "0       100     200     150     10\n",
       "1       180     240     200     14\n",
       "2       300     250     280     25\n",
       "3       410     300     400     28\n",
       "4       520     400     600     30\n",
       "5       600     450     800     35"
      ]
     },
     "execution_count": 4,
     "metadata": {},
     "output_type": "execute_result"
    }
   ],
   "source": [
    "table_data = {\n",
    "    'Facebook' : ads_facebook_data,\n",
    "    'Lazada' : ads_lazada_data,\n",
    "    'Shopee' : ads_shopee_data,\n",
    "    'Sales': sales_data\n",
    "}\n",
    "\n",
    "df = pd.DataFrame(table_data, index=None)\n",
    "df"
   ]
  },
  {
   "cell_type": "code",
   "execution_count": 5,
   "id": "e67b33b1-6792-46d5-bf71-b1ff138c63a0",
   "metadata": {},
   "outputs": [
    {
     "data": {
      "text/plain": [
       "<seaborn.axisgrid.PairGrid at 0x249f060d7f0>"
      ]
     },
     "execution_count": 5,
     "metadata": {},
     "output_type": "execute_result"
    },
    {
     "data": {
      "image/png": "[encoded data removed]",
      "text/plain": [
       "<Figure size 864x288 with 3 Axes>"
      ]
     },
     "metadata": {
      "needs_background": "light"
     },
     "output_type": "display_data"
    }
   ],
   "source": [
    "x = [df.Facebook, df.Lazada, df.Shopee]\n",
    "y = df.Sales\n",
    "sns.pairplot(df, x_vars=['Facebook', 'Lazada', 'Shopee'], \n",
    "            y_vars='Sales', height=4,\n",
    "            kind='reg')"
   ]
  },
  {
   "cell_type": "code",
   "execution_count": 6,
   "id": "a59541e7-171d-4f93-8f3a-92548568e913",
   "metadata": {},
   "outputs": [
    {
     "data": {
      "image/png": "[encoded data removed]",
      "text/plain": [
       "<Figure size 648x648 with 20 Axes>"
      ]
     },
     "metadata": {
      "needs_background": "light"
     },
     "output_type": "display_data"
    }
   ],
   "source": [
    "g = sns.pairplot(df)\n",
    "g.fig.set_size_inches(9,9)"
   ]
  },
  {
   "cell_type": "markdown",
   "id": "50a0e197-5375-42ed-9e3c-bdca23f5cf5a",
   "metadata": {},
   "source": [
    "## ทำการสร้าง Model ด้วย sklearn"
   ]
  },
  {
   "cell_type": "code",
   "execution_count": 7,
   "id": "c2ea09c7-7647-4722-83e6-167192e6586b",
   "metadata": {},
   "outputs": [
    {
     "data": {
      "text/plain": [
       "LinearRegression()"
      ]
     },
     "execution_count": 7,
     "metadata": {},
     "output_type": "execute_result"
    }
   ],
   "source": [
    "feature_cols = ['Facebook', 'Lazada', 'Shopee']\n",
    "X = df[feature_cols]\n",
    "y = df.Sales\n",
    "\n",
    "model = LinearRegression()\n",
    "model.fit(X, y)"
   ]
  },
  {
   "cell_type": "markdown",
   "id": "3d78676e-a978-4d86-ad0b-1b4ad671d3c8",
   "metadata": {},
   "source": [
    "### ทำการประเมินความแม่นยำโดยหาค่า R2\n",
    "- R2 R Square หรือ สัมประสิทธิ์การตัดสินใจ (Coefficient of Determination)\n",
    "- คำสั่งประเมิน : model.score(X, y) \n",
    "- ค่าที่ได้มีความแม่นยำอยู่ที่ 99%"
   ]
  },
  {
   "cell_type": "code",
   "execution_count": 8,
   "id": "76e6d803-ab2f-45b4-9bab-68039c6ed253",
   "metadata": {},
   "outputs": [
    {
     "data": {
      "text/plain": [
       "0.9918465624623668"
      ]
     },
     "execution_count": 8,
     "metadata": {},
     "output_type": "execute_result"
    }
   ],
   "source": [
    "model.score(X, y)"
   ]
  },
  {
   "cell_type": "markdown",
   "id": "56f6b5ed-9f01-49c7-942b-cb7762b8bac4",
   "metadata": {},
   "source": [
    "## การทำนาย\n",
    "- ทำการทำนายโดยจำลองข้อมูลใหม่ขึ้นมาแล้วให้ Model ทำนายผลลัพธ์ยอดขาย\n",
    "- แบ่งเหตุการออกเป็น 5 เหตุการณ์\n",
    "- 3 เหตุการณ์เป็นการลงทุนช่องทางเดียว\n",
    "- ผลลัพธ์ที่ได้เป็นยอดขาย \n",
    "- เหตุการณ์แรกคุ้มค่ากับการลงทุนมากที่สุดนั่นคือ การลงทุนโฆษณาในเฟสบุค\n",
    "- เหตุการณ์ที่เสี่ยงต่อการลงทุนมากที่สุดคือเหตุการณ์ที่สองเป็นลงทุนกับลาซาด้า"
   ]
  },
  {
   "cell_type": "code",
   "execution_count": 9,
   "id": "e139e3d7-85b9-4cf6-8bf9-9837aba1be1d",
   "metadata": {},
   "outputs": [
    {
     "data": {
      "text/plain": [
       "0    55.974838\n",
       "1   -23.913450\n",
       "2    30.872340\n",
       "3    16.603293\n",
       "4    36.575365\n",
       "dtype: float64"
      ]
     },
     "execution_count": 9,
     "metadata": {},
     "output_type": "execute_result"
    }
   ],
   "source": [
    "mock_data = [\n",
    "    [400, 0, 0],\n",
    "    [0, 400, 0], \n",
    "    [0, 0, 400], \n",
    "    [100, 150, 150], \n",
    "    [200, 50, 150]\n",
    "]\n",
    "result = model.predict(mock_data)\n",
    "table_result = pd.Series(model.predict(mock_data))\n",
    "table_result"
   ]
  },
  {
   "cell_type": "markdown",
   "id": "4a6fa966-84dd-423c-9d28-bf253988779f",
   "metadata": {},
   "source": [
    "### ทำการบันทึก model เป็นไฟล์ ด้วย joblib\n",
    "- เมื่อระยะเวลาผ่านไปหรือเห็นว่า model ไม่เหมาะสม\n",
    "- ให้ทำการนำ data มาทำการ Train Model ใหม่อีกครั้ง\n",
    "- การใช้ model เดิมให้ทำการใช้ฟังก์ชัน joblib.load('ชื่อ model')"
   ]
  },
  {
   "cell_type": "code",
   "execution_count": 10,
   "id": "6a875f63-0e18-4878-b540-b9707717a5bc",
   "metadata": {},
   "outputs": [
    {
     "data": {
      "text/plain": [
       "['my_model_ads 2021-05-13.pkl']"
      ]
     },
     "execution_count": 10,
     "metadata": {},
     "output_type": "execute_result"
    }
   ],
   "source": [
    "joblib.dump(model, 'my_model_ads {}.pkl'.format(time.strftime('%Y-%m-%d', time.localtime())))"
   ]
  }
 ],
 "metadata": {
  "kernelspec": {
   "display_name": "Python 3",
   "language": "python",
   "name": "python3"
  },
  "language_info": {
   "codemirror_mode": {
    "name": "ipython",
    "version": 3
   },
   "file_extension": ".py",
   "mimetype": "text/x-python",
   "name": "python",
   "nbconvert_exporter": "python",
   "pygments_lexer": "ipython3",
   "version": "3.9.1"
  }
 },
 "nbformat": 4,
 "nbformat_minor": 5
}
